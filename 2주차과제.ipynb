{
 "cells": [
  {
   "cell_type": "markdown",
   "metadata": {
    "colab_type": "text",
    "id": "tMEA4LyXqBOz"
   },
   "source": [
    "# 2주차 과제\n",
    "- 파이썬 문제\n",
    "- 인공지능 수학 문제\n",
    "\n",
    "\n",
    "*주의사항\n",
    "\n",
    "-- 문제에서 제시된 변수에 저장된 값을 __직접__ 변경하는 것은 오답으로 처리됩니다. (__예외도 있으니 문제설명을 자세히 읽어주세요__)\n",
    "\n",
    "-- 제시된 변수 이외의 변수를 추가해서 문제를 풀어도 됩니다 (__문제 설명에 명시된 변수 변경만 불가합니다.__)"
   ]
  },
  {
   "cell_type": "markdown",
   "metadata": {
    "colab_type": "text",
    "id": "z1qTsPAIkmfA"
   },
   "source": [
    "## 파이썬 문제"
   ]
  },
  {
   "cell_type": "markdown",
   "metadata": {
    "colab_type": "text",
    "id": "Lqd5sxxas0rW"
   },
   "source": [
    "### 01번 문제 (Data Type)\n",
    "\n",
    "__다음 변수 a, 변수 b, 변수 c의 자료형을 출력하세요.__"
   ]
  },
  {
   "cell_type": "code",
   "execution_count": 2,
   "metadata": {
    "colab": {},
    "colab_type": "code",
    "id": "R8MW9Rqhu61b"
   },
   "outputs": [
    {
     "name": "stdout",
     "output_type": "stream",
     "text": [
      "\n"
     ]
    }
   ],
   "source": [
    "# 주어진 변수(a, b, c) 직접 수정불가\n",
    "a = 'str'\n",
    "b = 123\n",
    "c = True\n",
    "\n",
    "\n",
    "print()"
   ]
  },
  {
   "cell_type": "code",
   "execution_count": 11,
   "metadata": {},
   "outputs": [
    {
     "data": {
      "text/plain": [
       "(str, int, bool)"
      ]
     },
     "execution_count": 11,
     "metadata": {},
     "output_type": "execute_result"
    }
   ],
   "source": [
    "type(a), type(b), type(c)"
   ]
  },
  {
   "cell_type": "markdown",
   "metadata": {
    "colab_type": "text",
    "id": "1gR8X465xuCj"
   },
   "source": [
    "### 02번 문제 (for문)\n",
    "\n",
    "__다음 변수 num_list에 있는 요소를 모두 더한 값을 for문을 활용하여 변수 answer에 저장하고  그 값을 출력하세요.__"
   ]
  },
  {
   "cell_type": "code",
   "execution_count": 21,
   "metadata": {
    "colab": {},
    "colab_type": "code",
    "id": "wI7l2ltaRUKy"
   },
   "outputs": [
    {
     "name": "stdout",
     "output_type": "stream",
     "text": [
      "45\n"
     ]
    }
   ],
   "source": [
    "# 주어진 변수(num_list) 직접 수정 불가\n",
    "# for문을 사용 하지 않은 경우 오답처리\n",
    "num_list = [1,2,3,4,5,6,7,8,9]\n",
    "answer = 0\n",
    "for i in num_list:\n",
    "    answer = answer + i \n",
    "print(answer)"
   ]
  },
  {
   "cell_type": "markdown",
   "metadata": {
    "colab_type": "text",
    "id": "PtKl46h3S4wL"
   },
   "source": [
    "### 03번 문제 (slice string)\n",
    "\n",
    "__다음 변수 date를 슬라이스해서 year(년), month(월), day(일)를 각각 출력하세요.__ (출력 : 2020 05 11)\n",
    "\n",
    "(tip: None을 지우고 date를 슬라이싱해서 각각의 데이터를 저장하세요!)"
   ]
  },
  {
   "cell_type": "code",
   "execution_count": 46,
   "metadata": {
    "colab": {},
    "colab_type": "code",
    "id": "270XbDvYqvJu"
   },
   "outputs": [
    {
     "name": "stdout",
     "output_type": "stream",
     "text": [
      "2020 05 11\n"
     ]
    }
   ],
   "source": [
    "# 주어진 변수(date)만 직접 수정불가, 다른 year, month, day 변수는 직접 수정가능\n",
    "# 슬라이스를 사용 안 할 경우 오답처리\n",
    "date = '20200511'\n",
    "\n",
    "year = None\n",
    "month = None\n",
    "day = None\n",
    "\n",
    "year = date[0:4]\n",
    "month = date[4:6]\n",
    "day = date[6:]\n",
    "print(year, month, day)\n",
    "\n",
    "# print(year, month, day)"
   ]
  },
  {
   "cell_type": "markdown",
   "metadata": {
    "colab_type": "text",
    "id": "sOjirt93r2Ob"
   },
   "source": [
    "### 04번 문제(for)\n",
    "\n",
    "__다음 변수 summary에 1 부터 100까지 모두 더한 값을 저장하여 출력하세요.__\n"
   ]
  },
  {
   "cell_type": "code",
   "execution_count": 58,
   "metadata": {
    "colab": {},
    "colab_type": "code",
    "id": "MiGjtBg3r2f_"
   },
   "outputs": [
    {
     "name": "stdout",
     "output_type": "stream",
     "text": [
      "5050\n"
     ]
    }
   ],
   "source": [
    "# 주어진 변수(summary) 직접 수정불가\n",
    "summary = 0\n",
    "\n",
    "for i in range(0,101) :\n",
    "    summary = summary + i\n",
    "print(summary)\n"
   ]
  },
  {
   "cell_type": "markdown",
   "metadata": {
    "colab_type": "text",
    "id": "g-nnpUwya5Lp"
   },
   "source": [
    "\n",
    "### 05번 문제(string reverse)\n",
    "\n",
    "__다음 변수 hangul의 문자열을 거꾸로 출력하세요. (출력:‘사바마라다나가’)__\n"
   ]
  },
  {
   "cell_type": "code",
   "execution_count": 76,
   "metadata": {
    "colab": {},
    "colab_type": "code",
    "id": "hHCquVTHbSNN"
   },
   "outputs": [
    {
     "name": "stdout",
     "output_type": "stream",
     "text": [
      "사바마라다나가\n"
     ]
    }
   ],
   "source": [
    "# 주어진 변수(hangul) 직접 수정불가\n",
    "hangul = '가나다라마바사'\n",
    "\n",
    "# 출력\n",
    "\n",
    "print(hangul[::-1])"
   ]
  },
  {
   "cell_type": "code",
   "execution_count": null,
   "metadata": {},
   "outputs": [],
   "source": []
  },
  {
   "cell_type": "markdown",
   "metadata": {
    "colab_type": "text",
    "id": "uUQ7rQWeclz5"
   },
   "source": [
    "### 06번 문제(str -> list -> int 변환)\n",
    "\n",
    "__다음 변수 num에는 공백으로 구분된 4개의 점수가 들어 있습니다. 평균을 구해서 출력하세요.__"
   ]
  },
  {
   "cell_type": "code",
   "execution_count": 101,
   "metadata": {
    "colab": {},
    "colab_type": "code",
    "id": "kcUrhpt5c22W"
   },
   "outputs": [
    {
     "name": "stdout",
     "output_type": "stream",
     "text": [
      "70.0\n"
     ]
    }
   ],
   "source": [
    "# 주어진 변수(num) 직접 수정불가\n",
    "num = \"70 50 90 70\"\n",
    "\n",
    "#출력\n",
    "num = num.split()\n",
    "summ = 0\n",
    "for i in (range(len(num))) :\n",
    "    summ = summ + int(num[i])\n",
    "print(summ/len(num))    \n",
    "\n",
    "\n"
   ]
  },
  {
   "cell_type": "markdown",
   "metadata": {
    "colab_type": "text",
    "id": "167vtalddRGH"
   },
   "source": [
    "### 07번 문제(if문)\n",
    "\n",
    "__다음 변수 n에 입력한 값이 짝수 일 경우 ‘짝수’를, 짝수가 아닐 경우 ‘짝수가 아닙니다’를 판별하여 출력하세요.__ (출력: __짝수__ or __짝수가 아닙니다__)\n"
   ]
  },
  {
   "cell_type": "code",
   "execution_count": 117,
   "metadata": {
    "colab": {},
    "colab_type": "code",
    "id": "8gwIuAVWdl9Z"
   },
   "outputs": [
    {
     "name": "stdout",
     "output_type": "stream",
     "text": [
      "숫자를 입력해주세요414525252\n",
      "짝수\n"
     ]
    }
   ],
   "source": [
    "# 주어진 변수(n) 직접 수정불가\n",
    "n = int(input('숫자를 입력해주세요'))\n",
    "\n",
    "#출력\n",
    "check = n%2\n",
    "if check == 0:\n",
    "    print(\"짝수\")\n",
    "else :\n",
    "    print(\"짝수가 아닙니다\")\n"
   ]
  },
  {
   "cell_type": "markdown",
   "metadata": {
    "colab_type": "text",
    "id": "QLySHJw9eB01"
   },
   "source": [
    "### 08번 문제(산술 연산 및 list index)\n",
    "\n",
    "__직사각형의 대각선의 길이를 구하는 공식은 밑변의 제곱 + 높이의 제곱 = 대변의 제곱이다.__\n",
    "\n",
    "__다음 변수 list_08에는 하나의 직사각형의 밑변과 높이가 저장되어 있습니다.__\n",
    "\n",
    "__각각 밑변이 3이고 높이가 4일 때, 직사각형의 대변의 제곱의 길이를 출력하세요.__"
   ]
  },
  {
   "cell_type": "code",
   "execution_count": 130,
   "metadata": {
    "colab": {},
    "colab_type": "code",
    "id": "9bEv0Wn3e_Da"
   },
   "outputs": [
    {
     "name": "stdout",
     "output_type": "stream",
     "text": [
      "25\n"
     ]
    }
   ],
   "source": [
    "# 주어진 변수(list_08) 직접 수정불가\n",
    "list_08 = [3, 4]\n",
    "\n",
    "summ = 0\n",
    "# 출력\n",
    "for x in list_08 :\n",
    "    summ = summ + x**2\n",
    "\n",
    "print(summ)    \n"
   ]
  },
  {
   "cell_type": "markdown",
   "metadata": {
    "colab_type": "text",
    "id": "efgr8XT3j0QE"
   },
   "source": [
    "### 09번 문제(소수 판별 프로그램)\n",
    "__입력받은 숫자가 소수인지 아닌지 출력하는 프로그램을 작성 해 주세요.__ (출력 : __소수__ or __소수가 아닙니다__)"
   ]
  },
  {
   "cell_type": "code",
   "execution_count": 334,
   "metadata": {
    "colab": {},
    "colab_type": "code",
    "id": "j7MNZZGGuXu0"
   },
   "outputs": [
    {
     "name": "stdout",
     "output_type": "stream",
     "text": [
      "숫자를 입력해주세요99\n",
      "소수가 아닙니다.\n"
     ]
    },
    {
     "data": {
      "text/plain": [
       "False"
      ]
     },
     "execution_count": 334,
     "metadata": {},
     "output_type": "execute_result"
    }
   ],
   "source": [
    "# 주어진 변수(num_10) 직접 수정불가\n",
    "# 함수(prime_number) 직접 수정가능\n",
    "num_10 = int(input('숫자를 입력해주세요'))\n",
    "\n",
    "def prime_number(n):\n",
    "    if(n<2):\n",
    "        print(\"소수가 아닙니다.\")\n",
    "        return False\n",
    "    else :\n",
    "        for i in range(2,n):\n",
    "            if(n%i==0):\n",
    "                print(\"소수가 아닙니다.\")\n",
    "                return False\n",
    "            \n",
    "        print(\"소수 입니다.\")\n",
    "        return True\n",
    "        \n",
    "\n",
    "prime_number(num_10)"
   ]
  },
  {
   "cell_type": "markdown",
   "metadata": {
    "colab_type": "text",
    "id": "tN2dx7b0gHM3"
   },
   "source": [
    "## 인공지능 수학 문제"
   ]
  },
  {
   "cell_type": "markdown",
   "metadata": {
    "colab_type": "text",
    "id": "QshpWJfxfO6A"
   },
   "source": [
    "##### 1번 문제 (Hypothesis)\n",
    "\n",
    "다음 공식은 Hypothesis를 구하는 공식입니다. 다음과 같이 값이 주어졌을때 H(x)의 값을 구하시오.\n",
    "\n",
    "*   W = 3\n",
    "*   x = 10\n",
    "*   b = 1\n"
   ]
  },
  {
   "cell_type": "code",
   "execution_count": 23,
   "metadata": {},
   "outputs": [
    {
     "data": {
      "text/plain": [
       "31"
      ]
     },
     "execution_count": 23,
     "metadata": {},
     "output_type": "execute_result"
    }
   ],
   "source": [
    "w=3\n",
    "x=10\n",
    "b=1\n",
    "w*x+b"
   ]
  },
  {
   "cell_type": "markdown",
   "metadata": {
    "colab_type": "text",
    "id": "upv_hWgL8yks"
   },
   "source": [
    "# $$h(x) = Wx + b$$"
   ]
  },
  {
   "cell_type": "markdown",
   "metadata": {
    "colab_type": "text",
    "id": "ZFMYPx42mt2E"
   },
   "source": [
    "#### 정답 : h(x) = 31"
   ]
  },
  {
   "cell_type": "markdown",
   "metadata": {
    "colab_type": "text",
    "id": "6sIvtew0eHSy"
   },
   "source": [
    "\n",
    "## 2번 문제 (Cost function)\n",
    "\n",
    "다음 공식은 Cost를 구하는 공식입니다. 다음과 같이 값이 주어졌을때 cost의 값을 구하세요.\n",
    "\n",
    "* W = 2\n",
    "* x = [2, 4, 8]\n",
    "* y = [5, 12, 21]\n",
    "\n",
    "(tip: x1=2, y1=5 / x2=4, y2=12 / x3=8, y3=21)"
   ]
  },
  {
   "cell_type": "markdown",
   "metadata": {
    "colab_type": "text",
    "id": "tjWpl4O1oXy1"
   },
   "source": [
    "# $$cost(W) =  \\frac{1}{n}\\sum_{i=1}^n (Wx^{(i)}-y^{(i)})^2$$"
   ]
  },
  {
   "cell_type": "markdown",
   "metadata": {
    "colab_type": "text",
    "id": "ITWV0EuznYgF"
   },
   "source": [
    "#### 정답 : "
   ]
  },
  {
   "cell_type": "markdown",
   "metadata": {
    "colab_type": "text",
    "id": "sQMi2ASxeJtt"
   },
   "source": [
    "## 3번 문제 (Logistic regression sigmoid function)\n",
    "\n",
    "다음 공식은 로지스틱 시그모이드 함수입니다. x가 __양의 무한대로__ 갈때 f(x)가 수렴하는 값을 구하세요.\n",
    "\n",
    "![대체 텍스트](https://prwatech.in/blog/wp-content/uploads/2020/02/logi3.png)"
   ]
  },
  {
   "cell_type": "markdown",
   "metadata": {
    "colab_type": "text",
    "id": "e_e_z3PCkDgM"
   },
   "source": [
    "#### 정답 : "
   ]
  }
 ],
 "metadata": {
  "colab": {
   "collapsed_sections": [],
   "name": "2주차과제.ipynb",
   "provenance": []
  },
  "kernelspec": {
   "display_name": "Python 3",
   "language": "python",
   "name": "python3"
  },
  "language_info": {
   "codemirror_mode": {
    "name": "ipython",
    "version": 3
   },
   "file_extension": ".py",
   "mimetype": "text/x-python",
   "name": "python",
   "nbconvert_exporter": "python",
   "pygments_lexer": "ipython3",
   "version": "3.7.6"
  }
 },
 "nbformat": 4,
 "nbformat_minor": 1
}
