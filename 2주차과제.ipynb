{
  "nbformat": 4,
  "nbformat_minor": 0,
  "metadata": {
    "colab": {
      "name": "2주차과제.ipynb",
      "provenance": [],
      "collapsed_sections": [],
      "include_colab_link": true
    },
    "kernelspec": {
      "name": "python3",
      "display_name": "Python 3"
    }
  },
  "cells": [
    {
      "cell_type": "markdown",
      "metadata": {
        "id": "view-in-github",
        "colab_type": "text"
      },
      "source": [
        "<a href=\"https://colab.research.google.com/github/lynn0626/ai_homework/blob/master/2%EC%A3%BC%EC%B0%A8%EA%B3%BC%EC%A0%9C.ipynb\" target=\"_parent\"><img src=\"https://colab.research.google.com/assets/colab-badge.svg\" alt=\"Open In Colab\"/></a>"
      ]
    },
    {
      "cell_type": "markdown",
      "metadata": {
        "id": "tMEA4LyXqBOz",
        "colab_type": "text"
      },
      "source": [
        "# 2주차 과제\n",
        "- 파이썬 문제\n",
        "- 인공지능 수학 문제\n",
        "\n",
        "\n",
        "*주의사항\n",
        "\n",
        "-- 문제에서 제시된 변수에 저장된 값을 __직접__ 변경하는 것은 오답으로 처리됩니다. (__예외도 있으니 문제설명을 자세히 읽어주세요__)\n",
        "\n",
        "-- 제시된 변수 이외의 변수를 추가해서 문제를 풀어도 됩니다 (__문제 설명에 명시된 변수 변경만 불가합니다.__)"
      ]
    },
    {
      "cell_type": "markdown",
      "metadata": {
        "id": "z1qTsPAIkmfA",
        "colab_type": "text"
      },
      "source": [
        "## 파이썬 문제"
      ]
    },
    {
      "cell_type": "markdown",
      "metadata": {
        "id": "Lqd5sxxas0rW",
        "colab_type": "text"
      },
      "source": [
        "### 01번 문제 (Data Type)\n",
        "\n",
        "__다음 변수 a, 변수 b, 변수 c의 자료형을 출력하세요.__"
      ]
    },
    {
      "cell_type": "markdown",
      "metadata": {
        "id": "NQERap5UpTAS",
        "colab_type": "text"
      },
      "source": [
        ""
      ]
    },
    {
      "cell_type": "code",
      "metadata": {
        "id": "R8MW9Rqhu61b",
        "colab_type": "code",
        "outputId": "aabb5dbc-af90-42d6-8edb-f2a3e39fbdc9",
        "colab": {
          "base_uri": "https://localhost:8080/",
          "height": 35
        }
      },
      "source": [
        "# 주어진 변수(a, b, c) 직접 수정불가\n",
        "a = 'str'\n",
        "b = 123\n",
        "c = True\n",
        "\n",
        "\n",
        "print('a :' ,  type(a) , ', b :' , type(b) ,  ', c :' , type(c))\n"
      ],
      "execution_count": 0,
      "outputs": [
        {
          "output_type": "stream",
          "text": [
            "a : <class 'str'> , b : <class 'int'> , c : <class 'bool'>\n"
          ],
          "name": "stdout"
        }
      ]
    },
    {
      "cell_type": "markdown",
      "metadata": {
        "id": "1gR8X465xuCj",
        "colab_type": "text"
      },
      "source": [
        "### 02번 문제 (for문)\n",
        "\n",
        "__다음 변수 num_list에 있는 요소를 모두 더한 값을 for문을 활용하여 변수 answer에 저장하고  그 값을 출력하세요.__"
      ]
    },
    {
      "cell_type": "code",
      "metadata": {
        "id": "wI7l2ltaRUKy",
        "colab_type": "code",
        "outputId": "a4848cc2-9736-4cbc-a78e-ac29cc6a0b0b",
        "colab": {
          "base_uri": "https://localhost:8080/",
          "height": 35
        }
      },
      "source": [
        "# 주어진 변수(num_list) 직접 수정 불가\n",
        "# for문을 사용 하지 않은 경우 오답처리\n",
        "num_list = [1,2,3,4,5,6,7,8,9]\n",
        "answer = 0\n",
        "\n",
        "for i in num_list:\n",
        "  answer = i + answer\n",
        "print(answer)\n"
      ],
      "execution_count": 0,
      "outputs": [
        {
          "output_type": "stream",
          "text": [
            "45\n"
          ],
          "name": "stdout"
        }
      ]
    },
    {
      "cell_type": "markdown",
      "metadata": {
        "id": "PtKl46h3S4wL",
        "colab_type": "text"
      },
      "source": [
        "### 03번 문제 (slice string)\n",
        "\n",
        "__다음 변수 date를 슬라이스해서 year(년), month(월), day(일)를 각각 출력하세요.__ (출력 : 2020 05 11)\n",
        "\n",
        "(tip: None을 지우고 date를 슬라이싱해서 각각의 데이터를 저장하세요!)"
      ]
    },
    {
      "cell_type": "code",
      "metadata": {
        "id": "270XbDvYqvJu",
        "colab_type": "code",
        "outputId": "f2b1168b-3829-43f0-b116-b32482ef59fb",
        "colab": {
          "base_uri": "https://localhost:8080/",
          "height": 35
        }
      },
      "source": [
        "# 주어진 변수(date)만 직접 수정불가, 다른 year, month, day 변수는 직접 수정가능\n",
        "# 슬라이스를 사용 안 할 경우 오답처리\n",
        "date = '20200511'\n",
        "\n",
        "year = date[0:4]\n",
        "month = date[4:6]\n",
        "day = date[6:8]\n",
        "\n",
        "print(year, month, day)"
      ],
      "execution_count": 0,
      "outputs": [
        {
          "output_type": "stream",
          "text": [
            "2020 05 11\n"
          ],
          "name": "stdout"
        }
      ]
    },
    {
      "cell_type": "markdown",
      "metadata": {
        "id": "sOjirt93r2Ob",
        "colab_type": "text"
      },
      "source": [
        "### 04번 문제(for)\n",
        "\n",
        "__다음 변수 summary에 1 부터 100까지 모두 더한 값을 저장하여 출력하세요.__\n"
      ]
    },
    {
      "cell_type": "code",
      "metadata": {
        "id": "MiGjtBg3r2f_",
        "colab_type": "code",
        "outputId": "e865b01f-175f-4689-a13e-f8c815495620",
        "colab": {
          "base_uri": "https://localhost:8080/",
          "height": 35
        }
      },
      "source": [
        "# 주어진 변수(summary) 직접 수정불가\n",
        "summary = 0\n",
        "\n",
        "for i in range(0,101):    #1부터 100 숫자 생성\n",
        "  summary = summary + i\n",
        "\n",
        "print(summary)"
      ],
      "execution_count": 0,
      "outputs": [
        {
          "output_type": "stream",
          "text": [
            "5050\n"
          ],
          "name": "stdout"
        }
      ]
    },
    {
      "cell_type": "markdown",
      "metadata": {
        "id": "g-nnpUwya5Lp",
        "colab_type": "text"
      },
      "source": [
        "### 05번 문제(string reverse)\n",
        "\n",
        "__다음 변수 hangul의 문자열을 거꾸로 출력하세요. (출력:‘사바마라다나가’)__\n"
      ]
    },
    {
      "cell_type": "code",
      "metadata": {
        "id": "hHCquVTHbSNN",
        "colab_type": "code",
        "outputId": "2c7ca6b6-a6c1-4aff-89a7-5cb6bcd350d6",
        "colab": {
          "base_uri": "https://localhost:8080/",
          "height": 35
        }
      },
      "source": [
        "# 주어진 변수(hangul) 직접 수정불가\n",
        "hangul = '가나다라마바사'\n",
        "\n",
        "print(hangul[::-1])\n",
        "# 출력"
      ],
      "execution_count": 0,
      "outputs": [
        {
          "output_type": "stream",
          "text": [
            "사바마라다나가\n"
          ],
          "name": "stdout"
        }
      ]
    },
    {
      "cell_type": "markdown",
      "metadata": {
        "id": "uUQ7rQWeclz5",
        "colab_type": "text"
      },
      "source": [
        "### 06번 문제(str -> list -> int 변환)\n",
        "\n",
        "__다음 변수 num에는 공백으로 구분된 4개의 점수가 들어 있습니다. 평균을 구해서 출력하세요.__"
      ]
    },
    {
      "cell_type": "code",
      "metadata": {
        "id": "kcUrhpt5c22W",
        "colab_type": "code",
        "outputId": "1b1e44cd-aa7c-4ce3-88ba-513bae054a5e",
        "colab": {
          "base_uri": "https://localhost:8080/",
          "height": 35
        }
      },
      "source": [
        "# 주어진 변수(num) 직접 수정불가\n",
        "num = \"70 50 90 70\"\n",
        "\n",
        "num = num.split()            #공백으로 구분된 문자열을 나눔\n",
        "j = len(num)                 #num의 요소 전체 갯수\n",
        "summ = 0\n",
        "\n",
        "for i in range(0,j):         #요소의 전체 갯수만큼 숫자 생성\n",
        "  summ = summ + int(num[i])\n",
        "\n",
        "print(summ/j)\n",
        "\n",
        "#출력"
      ],
      "execution_count": 0,
      "outputs": [
        {
          "output_type": "stream",
          "text": [
            "70.0\n"
          ],
          "name": "stdout"
        }
      ]
    },
    {
      "cell_type": "markdown",
      "metadata": {
        "id": "167vtalddRGH",
        "colab_type": "text"
      },
      "source": [
        "### 07번 문제(if문)\n",
        "\n",
        "__다음 변수 n에 입력한 값이 짝수 일 경우 ‘짝수’를, 짝수가 아닐 경우 ‘짝수가 아닙니다’를 판별하여 출력하세요.__ (출력: __짝수__ or __짝수가 아닙니다__)\n"
      ]
    },
    {
      "cell_type": "code",
      "metadata": {
        "id": "8gwIuAVWdl9Z",
        "colab_type": "code",
        "outputId": "6bdf71de-d9ed-4a52-9489-eb110fa975b9",
        "colab": {
          "base_uri": "https://localhost:8080/",
          "height": 53
        }
      },
      "source": [
        "# 주어진 변수(n) 직접 수정불가\n",
        "m = input('숫자를 입력해주세요').strip()\n",
        "\n",
        "if m == \"\" :                        #입력값이 빈값일 경우\n",
        "  print('입력된 값이 없습니다')\n",
        "  pass\n",
        "\n",
        "else :                              #입력값이 빈값이 아닐경우\n",
        "  n = int(m)\n",
        "  i = n%2\n",
        "\n",
        "  if i == 0 :                       #입력값이 짝수일 경우\n",
        "    print('짝수')\n",
        "  else :                            #입력값이 짝수가 아닐경우\n",
        "    print('짝수가 아닙니다')\n",
        "\n",
        "#출력"
      ],
      "execution_count": 0,
      "outputs": [
        {
          "output_type": "stream",
          "text": [
            "숫자를 입력해주세요5\n",
            "짝수가 아닙니다\n"
          ],
          "name": "stdout"
        }
      ]
    },
    {
      "cell_type": "markdown",
      "metadata": {
        "id": "QLySHJw9eB01",
        "colab_type": "text"
      },
      "source": [
        "### 08번 문제(산술 연산 및 list index)\n",
        "\n",
        "__직사각형의 대각선의 길이를 구하는 공식은 밑변의 제곱 + 높이의 제곱 = 대변의 제곱이다.__\n",
        "\n",
        "__다음 변수 list_08에는 하나의 직사각형의 밑변과 높이가 저장되어 있습니다.__\n",
        "\n",
        "__각각 밑변이 3이고 높이가 4일 때, 직사각형의 대변의 제곱의 길이를 출력하세요.__"
      ]
    },
    {
      "cell_type": "code",
      "metadata": {
        "id": "9bEv0Wn3e_Da",
        "colab_type": "code",
        "outputId": "d13a7464-be21-41ed-9bc5-f09d1cddc0b8",
        "colab": {
          "base_uri": "https://localhost:8080/",
          "height": 35
        }
      },
      "source": [
        "# 주어진 변수(list_08) 직접 수정불가\n",
        "list_08 = [3, 4]\n",
        "\n",
        "x = int(list_08[0])         # 밑변\n",
        "y = int(list_08[1])         # 높이\n",
        "z = x**2 + y**2             # 대변의 제곱 = 밑변의 제곱 + 높이의 제곱\n",
        "\n",
        "print(z)                    \n",
        "# 출력"
      ],
      "execution_count": 0,
      "outputs": [
        {
          "output_type": "stream",
          "text": [
            "25\n"
          ],
          "name": "stdout"
        }
      ]
    },
    {
      "cell_type": "markdown",
      "metadata": {
        "id": "efgr8XT3j0QE",
        "colab_type": "text"
      },
      "source": [
        "### 09번 문제(소수 판별 프로그램)\n",
        "__입력받은 숫자가 소수인지 아닌지 출력하는 프로그램을 작성 해 주세요.__ (출력 : __소수__ or __소수가 아닙니다__)"
      ]
    },
    {
      "cell_type": "code",
      "metadata": {
        "id": "j7MNZZGGuXu0",
        "colab_type": "code",
        "outputId": "9ab4a87f-836e-49ab-e61b-668160f20dc1",
        "colab": {
          "base_uri": "https://localhost:8080/",
          "height": 53
        }
      },
      "source": [
        "# 주어진 변수(num_10) 직접 수정불가\n",
        "# 함수(prime_number) 직접 수정가능\n",
        "num_9 = input('숫자를 입력해주세요').strip()\n",
        "if num_9 == \"\":                   # 입력값이 빈값인 경우\n",
        "  print('입력된 값이 없습니다')\n",
        "  pass\n",
        "\n",
        "else:                             # 입력값이 빈값이 아닌 경우\n",
        "  num_10 = int(num_9)\n",
        "\n",
        "  def prime_number(n):\n",
        "    if n < 2:                       # 입력값이 2보다 작으면 소수가 아닙니다\n",
        "      print('소수가 아닙니다')\n",
        "      pass\n",
        "\n",
        "    else:                           # 입력값이 2보다 클 경우\n",
        "      for i in range(2, n):         # 2보다 크고 입력값보다 작은 수를 생성 후\n",
        "        if n%i == 0:                # 입력값을 생성된 숫자로 나눈값이 0 일경우 소수가 아닙니다\n",
        "          print('소수가 아닙니다') \n",
        "          return False\n",
        "      \n",
        "      print('소수입니다')           # 입력값을 생성된 숫자로 나눠지는 경우가 없으면 소수입니다\n",
        "      pass\n",
        "\n",
        "  prime_number(num_10)\n"
      ],
      "execution_count": 0,
      "outputs": [
        {
          "output_type": "stream",
          "text": [
            "숫자를 입력해주세요1\n",
            "소수가 아닙니다\n"
          ],
          "name": "stdout"
        }
      ]
    },
    {
      "cell_type": "markdown",
      "metadata": {
        "id": "tN2dx7b0gHM3",
        "colab_type": "text"
      },
      "source": [
        "## 인공지능 수학 문제"
      ]
    },
    {
      "cell_type": "markdown",
      "metadata": {
        "id": "QshpWJfxfO6A",
        "colab_type": "text"
      },
      "source": [
        "### 1번 문제 (Hypothesis)\n",
        "\n",
        "다음 공식은 Hypothesis를 구하는 공식입니다. 다음과 같이 값이 주어졌을때 H(x)의 값을 구하시오.\n",
        "\n",
        "*   W = 3\n",
        "*   x = 10\n",
        "*   b = 1\n"
      ]
    },
    {
      "cell_type": "markdown",
      "metadata": {
        "id": "upv_hWgL8yks",
        "colab_type": "text"
      },
      "source": [
        "# $$h(x) = Wx + b$$"
      ]
    },
    {
      "cell_type": "markdown",
      "metadata": {
        "id": "ZFMYPx42mt2E",
        "colab_type": "text"
      },
      "source": [
        "#### 정답 : 31"
      ]
    },
    {
      "cell_type": "markdown",
      "metadata": {
        "id": "6sIvtew0eHSy",
        "colab_type": "text"
      },
      "source": [
        "## 2번 문제 (Cost function)\n",
        "\n",
        "다음 공식은 Cost를 구하는 공식입니다. 다음과 같이 값이 주어졌을때 cost의 값을 구하세요.\n",
        "\n",
        "* W = 2\n",
        "* x = [2, 4, 8]\n",
        "* y = [5, 12, 21]\n",
        "\n",
        "(tip: x1=2, y1=5 / x2=4, y2=12 / x3=8, y3=21)"
      ]
    },
    {
      "cell_type": "markdown",
      "metadata": {
        "id": "tjWpl4O1oXy1",
        "colab_type": "text"
      },
      "source": [
        "# $$cost(W) =  \\frac{1}{n}\\sum_{i=1}^n (Wx^{(i)}-y^{(i)})^2$$"
      ]
    },
    {
      "cell_type": "markdown",
      "metadata": {
        "id": "ITWV0EuznYgF",
        "colab_type": "text"
      },
      "source": [
        "#### 정답 :14 "
      ]
    },
    {
      "cell_type": "markdown",
      "metadata": {
        "id": "sQMi2ASxeJtt",
        "colab_type": "text"
      },
      "source": [
        "## 3번 문제 (Logistic regression sigmoid function)\n",
        "\n",
        "다음 공식은 로지스틱 시그모이드 함수입니다. x가 __양의 무한대로__ 갈때 f(x)가 수렴하는 값을 구하세요.\n",
        "\n",
        "![대체 텍스트](https://prwatech.in/blog/wp-content/uploads/2020/02/logi3.png)"
      ]
    },
    {
      "cell_type": "markdown",
      "metadata": {
        "id": "e_e_z3PCkDgM",
        "colab_type": "text"
      },
      "source": [
        "#### 정답 :1\n",
        " "
      ]
    }
  ]
}