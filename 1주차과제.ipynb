{
  "nbformat": 4,
  "nbformat_minor": 0,
  "metadata": {
    "colab": {
      "name": "Untitled1.ipynb",
      "provenance": [],
      "authorship_tag": "ABX9TyMHPeEPiOW9FTRqKPlBglOl",
      "include_colab_link": true
    },
    "kernelspec": {
      "name": "python3",
      "display_name": "Python 3"
    }
  },
  "cells": [
    {
      "cell_type": "markdown",
      "metadata": {
        "id": "view-in-github",
        "colab_type": "text"
      },
      "source": [
        "<a href=\"https://colab.research.google.com/github/lynn0626/ai_homework/blob/master/Untitled1.ipynb\" target=\"_parent\"><img src=\"https://colab.research.google.com/assets/colab-badge.svg\" alt=\"Open In Colab\"/></a>"
      ]
    },
    {
      "cell_type": "markdown",
      "metadata": {
        "id": "_Lr7rsG5Lfjk",
        "colab_type": "text"
      },
      "source": [
        "##**언어**\n",
        "* 자연 언어 처리(Natural Language Processing, NLP) 기반 대화형 챗봇\n",
        "\n",
        " * 대화형 커머스 : 로사(쇼핑 어드바이져), 상담봇(택배), 바로(11번가 챗봇)\n",
        " * 개인비서 서비스 : 뚜봇(민원상담사), 강남봇(주정차 민원해결사)\n",
        " * 공공 서비스 : 버비(법제처 법률비서), 지방세 상담봇(경기도) \n",
        "\n",
        "##**음성**\n",
        "* 음성 입력 과정을 거쳐 사람의 음성을 컴퓨터가 이해할 수 있도록 텍스트화(Speech To Text, STT) → 자연어 처리(Natural Language Processing, NLP) 과정 수행\n",
        " * 네이버 : 파파고(자동통역앱)\n",
        " * 아마존 : 알렉사(AI 스피커)\n",
        " * 카카오 : 헤이카카오(AI 스피커)\n",
        " * 애플 : 시리(인공지능 비서)\n",
        "\n",
        "##**이미지**\n",
        "* 합성곱 신경망(Convolutional Neural Network, CNN) 기반 컴퓨터 비전 기술을 바탕으로 영상의학분야 활용\n",
        " * 루닛 : 루닛 인사이트(Lunit INSIGHT for Mammography)개발, 유방암 진단 보조 소프트웨어로 영상 이미지를 입력하면 정확도 97%로 종양 악성 정도는 점수로,종양 위치는 히트맵으로 표기 가능\n",
        " * IBM : 인공지능 종양학 의사 “왓슨 포 온콜로지”(Watson for Oncology)를 개발, 전 세계 대형병원 13곳에서 의사로 활약\n",
        " * 텐센트 : 의료영상 분석 인공지능 ‘미잉(Mying)’을 개발, 수 백 여개 병원에 보급, 미잉은 당뇨병, 유방암, 식도암, 대장암 등을 진단할 수 있는 6개의 인공지능 시스템으로 구성\n",
        "\n",
        "## **자율주행**\n",
        "* 주행중 수집된 정보(주행 영상 이미지 학습) 기반의 딥러닝 알고리즘 적용\n",
        "\n",
        " * 테슬라 : 오토파일럿(Autopilot, 부분자율주행) → 완전자율주행(Full Self Driving Capability)\n",
        " * NVIDIA : DrivePX(자율주행 자동차 개발 플랫폼) 개발\n"
      ]
    }
  ]
}
